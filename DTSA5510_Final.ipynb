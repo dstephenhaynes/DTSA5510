{
  "nbformat": 4,
  "nbformat_minor": 0,
  "metadata": {
    "colab": {
      "provenance": [],
      "authorship_tag": "ABX9TyPGm5UJh6Siqc6/ZqHt9OyI",
      "include_colab_link": true
    },
    "kernelspec": {
      "name": "python3",
      "display_name": "Python 3"
    },
    "language_info": {
      "name": "python"
    }
  },
  "cells": [
    {
      "cell_type": "markdown",
      "metadata": {
        "id": "view-in-github",
        "colab_type": "text"
      },
      "source": [
        "<a href=\"https://colab.research.google.com/github/dstephenhaynes/DTSA5510/blob/main/DTSA5510_Final.ipynb\" target=\"_parent\"><img src=\"https://colab.research.google.com/assets/colab-badge.svg\" alt=\"Open In Colab\"/></a>"
      ]
    },
    {
      "cell_type": "code",
      "execution_count": 10,
      "metadata": {
        "id": "PBZ9_ONmWl5V"
      },
      "outputs": [],
      "source": [
        "import pandas as pd\n",
        "import requests\n",
        "import numpy as np"
      ]
    },
    {
      "cell_type": "code",
      "source": [
        "# Define the URL of the file\n",
        "url = 'https://raw.githubusercontent.com/dstephenhaynes/DTSA5510/main/movie_titles_metadata.txt'\n",
        "\n",
        "# Fetch the file content from the URL\n",
        "response = requests.get(url)\n",
        "data = response.text\n",
        "\n",
        "# Define the column names based on the data description\n",
        "columns = ['movie_id', 'movie_title', 'movie_year', 'imdb_rating', 'imdb_id', 'genres']\n",
        "\n",
        "# Initialize an empty list to hold the rows of the DataFrame\n",
        "rows = []\n",
        "\n",
        "# Read the data and parse each line\n",
        "for line in data.splitlines():\n",
        "    # Split the line by the delimiter\n",
        "    fields = line.strip().split(' +++$+++ ')\n",
        "    # Parse the genres field from string representation of list to actual list\n",
        "    fields[-1] = eval(fields[-1])\n",
        "    # Append the parsed fields to the rows list\n",
        "    rows.append(fields)\n",
        "\n",
        "# Create the DataFrame\n",
        "movies = pd.DataFrame(rows, columns=columns)\n",
        "\n",
        "# Display the first few rows of the DataFrame\n",
        "print(movies.head())\n",
        "\n",
        "# Optional: Save the DataFrame to a CSV file for easier inspection and reuse\n",
        "movies.to_csv('movie_titles_metadata.csv', index=False)\n"
      ],
      "metadata": {
        "colab": {
          "base_uri": "https://localhost:8080/"
        },
        "id": "IpjI1qhf79EG",
        "outputId": "8c349f57-9284-4607-9ba9-3f1ec7a7a31b"
      },
      "execution_count": 11,
      "outputs": [
        {
          "output_type": "stream",
          "name": "stdout",
          "text": [
            "  movie_id                 movie_title movie_year imdb_rating imdb_id  \\\n",
            "0       m0  10 things i hate about you       1999        6.90   62847   \n",
            "1       m1  1492: conquest of paradise       1992        6.20   10421   \n",
            "2       m2                  15 minutes       2001        6.10   25854   \n",
            "3       m3       2001: a space odyssey       1968        8.40  163227   \n",
            "4       m4                     48 hrs.       1982        6.90   22289   \n",
            "\n",
            "                                     genres  \n",
            "0                         [comedy, romance]  \n",
            "1    [adventure, biography, drama, history]  \n",
            "2          [action, crime, drama, thriller]  \n",
            "3              [adventure, mystery, sci-fi]  \n",
            "4  [action, comedy, crime, drama, thriller]  \n"
          ]
        }
      ]
    },
    {
      "cell_type": "code",
      "source": [
        "movies.info()"
      ],
      "metadata": {
        "colab": {
          "base_uri": "https://localhost:8080/"
        },
        "id": "CyU6rECHznbT",
        "outputId": "fe4b92bb-05f8-4c49-c636-8d95746f4c37"
      },
      "execution_count": 12,
      "outputs": [
        {
          "output_type": "stream",
          "name": "stdout",
          "text": [
            "<class 'pandas.core.frame.DataFrame'>\n",
            "RangeIndex: 617 entries, 0 to 616\n",
            "Data columns (total 6 columns):\n",
            " #   Column       Non-Null Count  Dtype \n",
            "---  ------       --------------  ----- \n",
            " 0   movie_id     617 non-null    object\n",
            " 1   movie_title  617 non-null    object\n",
            " 2   movie_year   617 non-null    object\n",
            " 3   imdb_rating  617 non-null    object\n",
            " 4   imdb_id      617 non-null    object\n",
            " 5   genres       617 non-null    object\n",
            "dtypes: object(6)\n",
            "memory usage: 29.0+ KB\n"
          ]
        }
      ]
    },
    {
      "cell_type": "code",
      "source": [
        "# Define the URLs of the files\n",
        "urls = [\n",
        "    'https://raw.githubusercontent.com/dstephenhaynes/DTSA5510/main/movie_lines_1.txt',\n",
        "    'https://raw.githubusercontent.com/dstephenhaynes/DTSA5510/main/movie_lines_2.txt'\n",
        "]\n",
        "\n",
        "# Initialize an empty list to hold the rows of the DataFrame\n",
        "rows = []\n",
        "\n",
        "# Define the column names based on the data description\n",
        "columns = ['line_id', 'character_id', 'movie_id', 'character_name', 'dialogue']\n",
        "\n",
        "# Fetch and process each file\n",
        "for url in urls:\n",
        "    response = requests.get(url)\n",
        "    data = response.text\n",
        "\n",
        "    # Read the data and parse each line\n",
        "    for line in data.splitlines():\n",
        "        # Split the line by the delimiter\n",
        "        fields = line.strip().split(' +++$+++ ')\n",
        "        # Append the parsed fields to the rows list\n",
        "        rows.append(fields)\n",
        "\n",
        "# Create the DataFrame\n",
        "dialogue = pd.DataFrame(rows, columns=columns)\n",
        "\n",
        "# Display the first few rows of the DataFrame\n",
        "print(dialogue.head())\n",
        "\n",
        "# Optional: Save the DataFrame to a CSV file for easier inspection and reuse\n",
        "dialogue.to_csv('movie_lines.csv', index=False)\n"
      ],
      "metadata": {
        "colab": {
          "base_uri": "https://localhost:8080/"
        },
        "id": "fnjo9O-a_NIN",
        "outputId": "655bcdf8-fb23-490c-f857-ce22b02d2b7b"
      },
      "execution_count": 13,
      "outputs": [
        {
          "output_type": "stream",
          "name": "stdout",
          "text": [
            "  line_id character_id movie_id character_name      dialogue\n",
            "0   L1045           u0       m0         BIANCA  They do not!\n",
            "1   L1044           u2       m0        CAMERON   They do to!\n",
            "2    L985           u0       m0         BIANCA    I hope so.\n",
            "3    L984           u2       m0        CAMERON     She okay?\n",
            "4    L925           u0       m0         BIANCA     Let's go.\n"
          ]
        }
      ]
    },
    {
      "cell_type": "code",
      "source": [
        "dialogue.info()"
      ],
      "metadata": {
        "colab": {
          "base_uri": "https://localhost:8080/"
        },
        "id": "0aAt27CqAwGh",
        "outputId": "b72dbd0b-6c37-41a1-d73d-4c3d5cf23f14"
      },
      "execution_count": 15,
      "outputs": [
        {
          "output_type": "stream",
          "name": "stdout",
          "text": [
            "<class 'pandas.core.frame.DataFrame'>\n",
            "RangeIndex: 304713 entries, 0 to 304712\n",
            "Data columns (total 5 columns):\n",
            " #   Column          Non-Null Count   Dtype \n",
            "---  ------          --------------   ----- \n",
            " 0   line_id         304713 non-null  object\n",
            " 1   character_id    304713 non-null  object\n",
            " 2   movie_id        304713 non-null  object\n",
            " 3   character_name  304713 non-null  object\n",
            " 4   dialogue        304446 non-null  object\n",
            "dtypes: object(5)\n",
            "memory usage: 11.6+ MB\n"
          ]
        }
      ]
    },
    {
      "cell_type": "code",
      "source": [
        "# prompt: print entries from dialogue dataframe that are null\n",
        "\n",
        "print(dialogue.isnull().sum())\n"
      ],
      "metadata": {
        "colab": {
          "base_uri": "https://localhost:8080/"
        },
        "id": "dIi1OrCIAzN2",
        "outputId": "4bfe4d75-f467-4c2f-b70c-cd39092b86cc"
      },
      "execution_count": 17,
      "outputs": [
        {
          "output_type": "stream",
          "name": "stdout",
          "text": [
            "line_id             0\n",
            "character_id        0\n",
            "movie_id            0\n",
            "character_name      0\n",
            "dialogue          267\n",
            "dtype: int64\n"
          ]
        }
      ]
    },
    {
      "cell_type": "code",
      "source": [
        "dialogue.head()"
      ],
      "metadata": {
        "colab": {
          "base_uri": "https://localhost:8080/",
          "height": 206
        },
        "id": "w5OO3j3tA9j2",
        "outputId": "6c094383-ab2b-4de6-b71b-e75f68b32f58"
      },
      "execution_count": 19,
      "outputs": [
        {
          "output_type": "execute_result",
          "data": {
            "text/plain": [
              "  line_id character_id movie_id character_name      dialogue\n",
              "0   L1045           u0       m0         BIANCA  They do not!\n",
              "1   L1044           u2       m0        CAMERON   They do to!\n",
              "2    L985           u0       m0         BIANCA    I hope so.\n",
              "3    L984           u2       m0        CAMERON     She okay?\n",
              "4    L925           u0       m0         BIANCA     Let's go."
            ],
            "text/html": [
              "\n",
              "  <div id=\"df-33b67da0-a5cb-4e6e-90ad-99ee236f98cf\" class=\"colab-df-container\">\n",
              "    <div>\n",
              "<style scoped>\n",
              "    .dataframe tbody tr th:only-of-type {\n",
              "        vertical-align: middle;\n",
              "    }\n",
              "\n",
              "    .dataframe tbody tr th {\n",
              "        vertical-align: top;\n",
              "    }\n",
              "\n",
              "    .dataframe thead th {\n",
              "        text-align: right;\n",
              "    }\n",
              "</style>\n",
              "<table border=\"1\" class=\"dataframe\">\n",
              "  <thead>\n",
              "    <tr style=\"text-align: right;\">\n",
              "      <th></th>\n",
              "      <th>line_id</th>\n",
              "      <th>character_id</th>\n",
              "      <th>movie_id</th>\n",
              "      <th>character_name</th>\n",
              "      <th>dialogue</th>\n",
              "    </tr>\n",
              "  </thead>\n",
              "  <tbody>\n",
              "    <tr>\n",
              "      <th>0</th>\n",
              "      <td>L1045</td>\n",
              "      <td>u0</td>\n",
              "      <td>m0</td>\n",
              "      <td>BIANCA</td>\n",
              "      <td>They do not!</td>\n",
              "    </tr>\n",
              "    <tr>\n",
              "      <th>1</th>\n",
              "      <td>L1044</td>\n",
              "      <td>u2</td>\n",
              "      <td>m0</td>\n",
              "      <td>CAMERON</td>\n",
              "      <td>They do to!</td>\n",
              "    </tr>\n",
              "    <tr>\n",
              "      <th>2</th>\n",
              "      <td>L985</td>\n",
              "      <td>u0</td>\n",
              "      <td>m0</td>\n",
              "      <td>BIANCA</td>\n",
              "      <td>I hope so.</td>\n",
              "    </tr>\n",
              "    <tr>\n",
              "      <th>3</th>\n",
              "      <td>L984</td>\n",
              "      <td>u2</td>\n",
              "      <td>m0</td>\n",
              "      <td>CAMERON</td>\n",
              "      <td>She okay?</td>\n",
              "    </tr>\n",
              "    <tr>\n",
              "      <th>4</th>\n",
              "      <td>L925</td>\n",
              "      <td>u0</td>\n",
              "      <td>m0</td>\n",
              "      <td>BIANCA</td>\n",
              "      <td>Let's go.</td>\n",
              "    </tr>\n",
              "  </tbody>\n",
              "</table>\n",
              "</div>\n",
              "    <div class=\"colab-df-buttons\">\n",
              "\n",
              "  <div class=\"colab-df-container\">\n",
              "    <button class=\"colab-df-convert\" onclick=\"convertToInteractive('df-33b67da0-a5cb-4e6e-90ad-99ee236f98cf')\"\n",
              "            title=\"Convert this dataframe to an interactive table.\"\n",
              "            style=\"display:none;\">\n",
              "\n",
              "  <svg xmlns=\"http://www.w3.org/2000/svg\" height=\"24px\" viewBox=\"0 -960 960 960\">\n",
              "    <path d=\"M120-120v-720h720v720H120Zm60-500h600v-160H180v160Zm220 220h160v-160H400v160Zm0 220h160v-160H400v160ZM180-400h160v-160H180v160Zm440 0h160v-160H620v160ZM180-180h160v-160H180v160Zm440 0h160v-160H620v160Z\"/>\n",
              "  </svg>\n",
              "    </button>\n",
              "\n",
              "  <style>\n",
              "    .colab-df-container {\n",
              "      display:flex;\n",
              "      gap: 12px;\n",
              "    }\n",
              "\n",
              "    .colab-df-convert {\n",
              "      background-color: #E8F0FE;\n",
              "      border: none;\n",
              "      border-radius: 50%;\n",
              "      cursor: pointer;\n",
              "      display: none;\n",
              "      fill: #1967D2;\n",
              "      height: 32px;\n",
              "      padding: 0 0 0 0;\n",
              "      width: 32px;\n",
              "    }\n",
              "\n",
              "    .colab-df-convert:hover {\n",
              "      background-color: #E2EBFA;\n",
              "      box-shadow: 0px 1px 2px rgba(60, 64, 67, 0.3), 0px 1px 3px 1px rgba(60, 64, 67, 0.15);\n",
              "      fill: #174EA6;\n",
              "    }\n",
              "\n",
              "    .colab-df-buttons div {\n",
              "      margin-bottom: 4px;\n",
              "    }\n",
              "\n",
              "    [theme=dark] .colab-df-convert {\n",
              "      background-color: #3B4455;\n",
              "      fill: #D2E3FC;\n",
              "    }\n",
              "\n",
              "    [theme=dark] .colab-df-convert:hover {\n",
              "      background-color: #434B5C;\n",
              "      box-shadow: 0px 1px 3px 1px rgba(0, 0, 0, 0.15);\n",
              "      filter: drop-shadow(0px 1px 2px rgba(0, 0, 0, 0.3));\n",
              "      fill: #FFFFFF;\n",
              "    }\n",
              "  </style>\n",
              "\n",
              "    <script>\n",
              "      const buttonEl =\n",
              "        document.querySelector('#df-33b67da0-a5cb-4e6e-90ad-99ee236f98cf button.colab-df-convert');\n",
              "      buttonEl.style.display =\n",
              "        google.colab.kernel.accessAllowed ? 'block' : 'none';\n",
              "\n",
              "      async function convertToInteractive(key) {\n",
              "        const element = document.querySelector('#df-33b67da0-a5cb-4e6e-90ad-99ee236f98cf');\n",
              "        const dataTable =\n",
              "          await google.colab.kernel.invokeFunction('convertToInteractive',\n",
              "                                                    [key], {});\n",
              "        if (!dataTable) return;\n",
              "\n",
              "        const docLinkHtml = 'Like what you see? Visit the ' +\n",
              "          '<a target=\"_blank\" href=https://colab.research.google.com/notebooks/data_table.ipynb>data table notebook</a>'\n",
              "          + ' to learn more about interactive tables.';\n",
              "        element.innerHTML = '';\n",
              "        dataTable['output_type'] = 'display_data';\n",
              "        await google.colab.output.renderOutput(dataTable, element);\n",
              "        const docLink = document.createElement('div');\n",
              "        docLink.innerHTML = docLinkHtml;\n",
              "        element.appendChild(docLink);\n",
              "      }\n",
              "    </script>\n",
              "  </div>\n",
              "\n",
              "\n",
              "<div id=\"df-36e9b9a9-d00d-4404-b924-7b352333eff1\">\n",
              "  <button class=\"colab-df-quickchart\" onclick=\"quickchart('df-36e9b9a9-d00d-4404-b924-7b352333eff1')\"\n",
              "            title=\"Suggest charts\"\n",
              "            style=\"display:none;\">\n",
              "\n",
              "<svg xmlns=\"http://www.w3.org/2000/svg\" height=\"24px\"viewBox=\"0 0 24 24\"\n",
              "     width=\"24px\">\n",
              "    <g>\n",
              "        <path d=\"M19 3H5c-1.1 0-2 .9-2 2v14c0 1.1.9 2 2 2h14c1.1 0 2-.9 2-2V5c0-1.1-.9-2-2-2zM9 17H7v-7h2v7zm4 0h-2V7h2v10zm4 0h-2v-4h2v4z\"/>\n",
              "    </g>\n",
              "</svg>\n",
              "  </button>\n",
              "\n",
              "<style>\n",
              "  .colab-df-quickchart {\n",
              "      --bg-color: #E8F0FE;\n",
              "      --fill-color: #1967D2;\n",
              "      --hover-bg-color: #E2EBFA;\n",
              "      --hover-fill-color: #174EA6;\n",
              "      --disabled-fill-color: #AAA;\n",
              "      --disabled-bg-color: #DDD;\n",
              "  }\n",
              "\n",
              "  [theme=dark] .colab-df-quickchart {\n",
              "      --bg-color: #3B4455;\n",
              "      --fill-color: #D2E3FC;\n",
              "      --hover-bg-color: #434B5C;\n",
              "      --hover-fill-color: #FFFFFF;\n",
              "      --disabled-bg-color: #3B4455;\n",
              "      --disabled-fill-color: #666;\n",
              "  }\n",
              "\n",
              "  .colab-df-quickchart {\n",
              "    background-color: var(--bg-color);\n",
              "    border: none;\n",
              "    border-radius: 50%;\n",
              "    cursor: pointer;\n",
              "    display: none;\n",
              "    fill: var(--fill-color);\n",
              "    height: 32px;\n",
              "    padding: 0;\n",
              "    width: 32px;\n",
              "  }\n",
              "\n",
              "  .colab-df-quickchart:hover {\n",
              "    background-color: var(--hover-bg-color);\n",
              "    box-shadow: 0 1px 2px rgba(60, 64, 67, 0.3), 0 1px 3px 1px rgba(60, 64, 67, 0.15);\n",
              "    fill: var(--button-hover-fill-color);\n",
              "  }\n",
              "\n",
              "  .colab-df-quickchart-complete:disabled,\n",
              "  .colab-df-quickchart-complete:disabled:hover {\n",
              "    background-color: var(--disabled-bg-color);\n",
              "    fill: var(--disabled-fill-color);\n",
              "    box-shadow: none;\n",
              "  }\n",
              "\n",
              "  .colab-df-spinner {\n",
              "    border: 2px solid var(--fill-color);\n",
              "    border-color: transparent;\n",
              "    border-bottom-color: var(--fill-color);\n",
              "    animation:\n",
              "      spin 1s steps(1) infinite;\n",
              "  }\n",
              "\n",
              "  @keyframes spin {\n",
              "    0% {\n",
              "      border-color: transparent;\n",
              "      border-bottom-color: var(--fill-color);\n",
              "      border-left-color: var(--fill-color);\n",
              "    }\n",
              "    20% {\n",
              "      border-color: transparent;\n",
              "      border-left-color: var(--fill-color);\n",
              "      border-top-color: var(--fill-color);\n",
              "    }\n",
              "    30% {\n",
              "      border-color: transparent;\n",
              "      border-left-color: var(--fill-color);\n",
              "      border-top-color: var(--fill-color);\n",
              "      border-right-color: var(--fill-color);\n",
              "    }\n",
              "    40% {\n",
              "      border-color: transparent;\n",
              "      border-right-color: var(--fill-color);\n",
              "      border-top-color: var(--fill-color);\n",
              "    }\n",
              "    60% {\n",
              "      border-color: transparent;\n",
              "      border-right-color: var(--fill-color);\n",
              "    }\n",
              "    80% {\n",
              "      border-color: transparent;\n",
              "      border-right-color: var(--fill-color);\n",
              "      border-bottom-color: var(--fill-color);\n",
              "    }\n",
              "    90% {\n",
              "      border-color: transparent;\n",
              "      border-bottom-color: var(--fill-color);\n",
              "    }\n",
              "  }\n",
              "</style>\n",
              "\n",
              "  <script>\n",
              "    async function quickchart(key) {\n",
              "      const quickchartButtonEl =\n",
              "        document.querySelector('#' + key + ' button');\n",
              "      quickchartButtonEl.disabled = true;  // To prevent multiple clicks.\n",
              "      quickchartButtonEl.classList.add('colab-df-spinner');\n",
              "      try {\n",
              "        const charts = await google.colab.kernel.invokeFunction(\n",
              "            'suggestCharts', [key], {});\n",
              "      } catch (error) {\n",
              "        console.error('Error during call to suggestCharts:', error);\n",
              "      }\n",
              "      quickchartButtonEl.classList.remove('colab-df-spinner');\n",
              "      quickchartButtonEl.classList.add('colab-df-quickchart-complete');\n",
              "    }\n",
              "    (() => {\n",
              "      let quickchartButtonEl =\n",
              "        document.querySelector('#df-36e9b9a9-d00d-4404-b924-7b352333eff1 button');\n",
              "      quickchartButtonEl.style.display =\n",
              "        google.colab.kernel.accessAllowed ? 'block' : 'none';\n",
              "    })();\n",
              "  </script>\n",
              "</div>\n",
              "\n",
              "    </div>\n",
              "  </div>\n"
            ],
            "application/vnd.google.colaboratory.intrinsic+json": {
              "type": "dataframe",
              "variable_name": "dialogue"
            }
          },
          "metadata": {},
          "execution_count": 19
        }
      ]
    },
    {
      "cell_type": "code",
      "source": [],
      "metadata": {
        "id": "cqkYyw0HBEae"
      },
      "execution_count": null,
      "outputs": []
    }
  ]
}